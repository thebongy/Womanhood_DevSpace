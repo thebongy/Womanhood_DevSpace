{
 "cells": [
  {
   "cell_type": "code",
   "execution_count": 7,
   "id": "electoral-daisy",
   "metadata": {},
   "outputs": [],
   "source": [
    "import pandas as pd"
   ]
  },
  {
   "cell_type": "code",
   "execution_count": 16,
   "id": "progressive-professor",
   "metadata": {},
   "outputs": [
    {
     "data": {
      "text/html": [
       "<div>\n",
       "<style scoped>\n",
       "    .dataframe tbody tr th:only-of-type {\n",
       "        vertical-align: middle;\n",
       "    }\n",
       "\n",
       "    .dataframe tbody tr th {\n",
       "        vertical-align: top;\n",
       "    }\n",
       "\n",
       "    .dataframe thead th {\n",
       "        text-align: right;\n",
       "    }\n",
       "</style>\n",
       "<table border=\"1\" class=\"dataframe\">\n",
       "  <thead>\n",
       "    <tr style=\"text-align: right;\">\n",
       "      <th></th>\n",
       "      <th>regularity_periods</th>\n",
       "      <th>weight_gain</th>\n",
       "      <th>excess_hair</th>\n",
       "      <th>dark_patches</th>\n",
       "      <th>pimples</th>\n",
       "      <th>depression_and_anxiety</th>\n",
       "      <th>family_diabetes</th>\n",
       "      <th>mantaining_weight</th>\n",
       "      <th>oilyskin</th>\n",
       "      <th>hair_thinning</th>\n",
       "      <th>freq_eat_places</th>\n",
       "      <th>regular_exercise</th>\n",
       "      <th>sleep_time</th>\n",
       "      <th>wake_time</th>\n",
       "      <th>hostel_stress</th>\n",
       "      <th>personal_problems</th>\n",
       "      <th>peer_pressure</th>\n",
       "      <th>dietrty_habits</th>\n",
       "      <th>fast_foods_freq</th>\n",
       "      <th>PCOS_result</th>\n",
       "    </tr>\n",
       "  </thead>\n",
       "  <tbody>\n",
       "    <tr>\n",
       "      <th>0</th>\n",
       "      <td>2</td>\n",
       "      <td>1</td>\n",
       "      <td>1</td>\n",
       "      <td>0</td>\n",
       "      <td>1</td>\n",
       "      <td>1</td>\n",
       "      <td>0</td>\n",
       "      <td>1</td>\n",
       "      <td>1</td>\n",
       "      <td>1</td>\n",
       "      <td>0</td>\n",
       "      <td>0</td>\n",
       "      <td>11</td>\n",
       "      <td>7</td>\n",
       "      <td>0</td>\n",
       "      <td>1</td>\n",
       "      <td>0</td>\n",
       "      <td>0</td>\n",
       "      <td>2</td>\n",
       "      <td>False</td>\n",
       "    </tr>\n",
       "    <tr>\n",
       "      <th>1</th>\n",
       "      <td>3</td>\n",
       "      <td>1</td>\n",
       "      <td>1</td>\n",
       "      <td>0</td>\n",
       "      <td>0</td>\n",
       "      <td>1</td>\n",
       "      <td>0</td>\n",
       "      <td>1</td>\n",
       "      <td>0</td>\n",
       "      <td>1</td>\n",
       "      <td>0</td>\n",
       "      <td>0</td>\n",
       "      <td>12</td>\n",
       "      <td>8</td>\n",
       "      <td>0</td>\n",
       "      <td>0</td>\n",
       "      <td>0</td>\n",
       "      <td>1</td>\n",
       "      <td>2</td>\n",
       "      <td>True</td>\n",
       "    </tr>\n",
       "    <tr>\n",
       "      <th>2</th>\n",
       "      <td>2</td>\n",
       "      <td>1</td>\n",
       "      <td>1</td>\n",
       "      <td>0</td>\n",
       "      <td>0</td>\n",
       "      <td>1</td>\n",
       "      <td>0</td>\n",
       "      <td>1</td>\n",
       "      <td>0</td>\n",
       "      <td>1</td>\n",
       "      <td>0</td>\n",
       "      <td>0</td>\n",
       "      <td>11</td>\n",
       "      <td>7</td>\n",
       "      <td>0</td>\n",
       "      <td>0</td>\n",
       "      <td>1</td>\n",
       "      <td>0</td>\n",
       "      <td>2</td>\n",
       "      <td>False</td>\n",
       "    </tr>\n",
       "    <tr>\n",
       "      <th>3</th>\n",
       "      <td>4</td>\n",
       "      <td>0</td>\n",
       "      <td>1</td>\n",
       "      <td>0</td>\n",
       "      <td>0</td>\n",
       "      <td>1</td>\n",
       "      <td>1</td>\n",
       "      <td>1</td>\n",
       "      <td>0</td>\n",
       "      <td>1</td>\n",
       "      <td>0</td>\n",
       "      <td>0</td>\n",
       "      <td>3</td>\n",
       "      <td>7</td>\n",
       "      <td>0</td>\n",
       "      <td>0</td>\n",
       "      <td>0</td>\n",
       "      <td>1</td>\n",
       "      <td>2</td>\n",
       "      <td>False</td>\n",
       "    </tr>\n",
       "    <tr>\n",
       "      <th>4</th>\n",
       "      <td>3</td>\n",
       "      <td>1</td>\n",
       "      <td>1</td>\n",
       "      <td>0</td>\n",
       "      <td>0</td>\n",
       "      <td>1</td>\n",
       "      <td>1</td>\n",
       "      <td>1</td>\n",
       "      <td>1</td>\n",
       "      <td>1</td>\n",
       "      <td>0</td>\n",
       "      <td>0</td>\n",
       "      <td>12</td>\n",
       "      <td>8</td>\n",
       "      <td>0</td>\n",
       "      <td>1</td>\n",
       "      <td>0</td>\n",
       "      <td>0</td>\n",
       "      <td>2</td>\n",
       "      <td>True</td>\n",
       "    </tr>\n",
       "  </tbody>\n",
       "</table>\n",
       "</div>"
      ],
      "text/plain": [
       "   regularity_periods  weight_gain  excess_hair  dark_patches  pimples  \\\n",
       "0                   2            1            1             0        1   \n",
       "1                   3            1            1             0        0   \n",
       "2                   2            1            1             0        0   \n",
       "3                   4            0            1             0        0   \n",
       "4                   3            1            1             0        0   \n",
       "\n",
       "   depression_and_anxiety  family_diabetes  mantaining_weight  oilyskin  \\\n",
       "0                       1                0                  1         1   \n",
       "1                       1                0                  1         0   \n",
       "2                       1                0                  1         0   \n",
       "3                       1                1                  1         0   \n",
       "4                       1                1                  1         1   \n",
       "\n",
       "   hair_thinning  freq_eat_places  regular_exercise  sleep_time  wake_time  \\\n",
       "0              1                0                 0          11          7   \n",
       "1              1                0                 0          12          8   \n",
       "2              1                0                 0          11          7   \n",
       "3              1                0                 0           3          7   \n",
       "4              1                0                 0          12          8   \n",
       "\n",
       "   hostel_stress  personal_problems  peer_pressure  dietrty_habits  \\\n",
       "0              0                  1              0               0   \n",
       "1              0                  0              0               1   \n",
       "2              0                  0              1               0   \n",
       "3              0                  0              0               1   \n",
       "4              0                  1              0               0   \n",
       "\n",
       "   fast_foods_freq  PCOS_result  \n",
       "0                2        False  \n",
       "1                2         True  \n",
       "2                2        False  \n",
       "3                2        False  \n",
       "4                2         True  "
      ]
     },
     "execution_count": 16,
     "metadata": {},
     "output_type": "execute_result"
    }
   ],
   "source": [
    "df=pd.read_csv('PCOS_final_cleaned.csv')\n",
    "df.head()"
   ]
  },
  {
   "cell_type": "code",
   "execution_count": 24,
   "id": "ideal-bottom",
   "metadata": {},
   "outputs": [],
   "source": [
    "df1=df\n",
    "       "
   ]
  },
  {
   "cell_type": "code",
   "execution_count": 25,
   "id": "dirty-collector",
   "metadata": {},
   "outputs": [],
   "source": [
    "y=df1.PCOS_result.values"
   ]
  },
  {
   "cell_type": "code",
   "execution_count": 26,
   "id": "strong-revelation",
   "metadata": {},
   "outputs": [
    {
     "data": {
      "text/plain": [
       "array([False,  True, False, False,  True, False,  True, False,  True,\n",
       "        True,  True,  True, False,  True, False, False, False, False,\n",
       "        True,  True, False, False, False,  True,  True, False, False,\n",
       "       False, False, False, False, False, False, False, False, False,\n",
       "       False, False, False, False, False, False, False, False, False,\n",
       "       False, False,  True, False,  True, False, False,  True, False,\n",
       "        True,  True,  True,  True,  True,  True, False,  True, False,\n",
       "       False, False, False,  True,  True, False, False, False,  True,\n",
       "        True, False, False, False, False, False, False, False, False,\n",
       "       False, False, False, False, False, False, False, False, False,\n",
       "       False, False, False, False, False, False, False, False, False,\n",
       "       False, False, False, False, False, False, False, False, False,\n",
       "       False, False, False, False, False, False, False, False, False,\n",
       "       False, False])"
      ]
     },
     "execution_count": 26,
     "metadata": {},
     "output_type": "execute_result"
    }
   ],
   "source": [
    "y"
   ]
  },
  {
   "cell_type": "code",
   "execution_count": 27,
   "id": "capable-hierarchy",
   "metadata": {},
   "outputs": [],
   "source": [
    "del df1[\"PCOS_result\"]"
   ]
  },
  {
   "cell_type": "code",
   "execution_count": 28,
   "id": "whole-oxygen",
   "metadata": {},
   "outputs": [],
   "source": [
    "x=df1.values"
   ]
  },
  {
   "cell_type": "code",
   "execution_count": 29,
   "id": "accomplished-office",
   "metadata": {},
   "outputs": [
    {
     "data": {
      "text/plain": [
       "array([[2, 1, 1, ..., 0, 0, 2],\n",
       "       [3, 1, 1, ..., 0, 1, 2],\n",
       "       [2, 1, 1, ..., 1, 0, 2],\n",
       "       ...,\n",
       "       [1, 0, 0, ..., 0, 0, 2],\n",
       "       [1, 0, 1, ..., 0, 1, 2],\n",
       "       [1, 0, 0, ..., 0, 0, 2]], dtype=int64)"
      ]
     },
     "execution_count": 29,
     "metadata": {},
     "output_type": "execute_result"
    }
   ],
   "source": [
    "x"
   ]
  },
  {
   "cell_type": "code",
   "execution_count": 32,
   "id": "portable-timing",
   "metadata": {},
   "outputs": [],
   "source": [
    "from sklearn.model_selection import train_test_split\n",
    "from sklearn.model_selection import train_test_split\n",
    "from sklearn import tree\n",
    "from sklearn.tree import DecisionTreeClassifier\n",
    "from sklearn.ensemble import RandomForestClassifier\n",
    "from sklearn import metrics"
   ]
  },
  {
   "cell_type": "code",
   "execution_count": 33,
   "id": "thirty-garlic",
   "metadata": {},
   "outputs": [],
   "source": [
    "x_train,x_test,y_train,y_test=train_test_split(x, y, test_size=0.2, random_state=3)"
   ]
  },
  {
   "cell_type": "code",
   "execution_count": 39,
   "id": "liked-childhood",
   "metadata": {},
   "outputs": [
    {
     "data": {
      "text/plain": [
       "((95, 19), (95,))"
      ]
     },
     "execution_count": 39,
     "metadata": {},
     "output_type": "execute_result"
    }
   ],
   "source": [
    "x_train.shape ,y_train.shape"
   ]
  },
  {
   "cell_type": "code",
   "execution_count": 40,
   "id": "known-separation",
   "metadata": {},
   "outputs": [
    {
     "data": {
      "text/plain": [
       "((24, 19), (24,))"
      ]
     },
     "execution_count": 40,
     "metadata": {},
     "output_type": "execute_result"
    }
   ],
   "source": [
    "x_test.shape, y_test.shape"
   ]
  },
  {
   "cell_type": "code",
   "execution_count": 42,
   "id": "third-exploration",
   "metadata": {},
   "outputs": [
    {
     "data": {
      "text/plain": [
       "(0.9894736842105263, 1.0)"
      ]
     },
     "execution_count": 42,
     "metadata": {},
     "output_type": "execute_result"
    }
   ],
   "source": [
    "dt=DecisionTreeClassifier()\n",
    "clf=dt.fit(x_train,y_train)\n",
    "clf.score(x_train,y_train),clf.score(x_test,y_test)"
   ]
  },
  {
   "cell_type": "code",
   "execution_count": 43,
   "id": "affected-tourism",
   "metadata": {},
   "outputs": [
    {
     "data": {
      "text/plain": [
       "(0.9894736842105263, 1.0)"
      ]
     },
     "execution_count": 43,
     "metadata": {},
     "output_type": "execute_result"
    }
   ],
   "source": [
    "rf = RandomForestClassifier()\n",
    "clf1=rf.fit(x_train,y_train)\n",
    "clf1.score(x_train,y_train),clf1.score(x_test,y_test)"
   ]
  },
  {
   "cell_type": "code",
   "execution_count": 44,
   "id": "charitable-segment",
   "metadata": {},
   "outputs": [],
   "source": [
    "#try stacking, bagging and boosting later on"
   ]
  },
  {
   "cell_type": "code",
   "execution_count": 58,
   "id": "offensive-mining",
   "metadata": {},
   "outputs": [],
   "source": [
    "test1=[3,1,1,0,0,1,0,1,0,1,0,0,12,8,0,0,0,1,2]"
   ]
  },
  {
   "cell_type": "code",
   "execution_count": 59,
   "id": "severe-cleaner",
   "metadata": {},
   "outputs": [],
   "source": [
    "import numpy as np\n",
    "test1 = np.array(test1).reshape(1, len(test1))\n"
   ]
  },
  {
   "cell_type": "code",
   "execution_count": 61,
   "id": "facial-estonia",
   "metadata": {},
   "outputs": [
    {
     "data": {
      "text/plain": [
       "array([ True])"
      ]
     },
     "execution_count": 61,
     "metadata": {},
     "output_type": "execute_result"
    }
   ],
   "source": [
    "clf1.predict(test1)"
   ]
  },
  {
   "cell_type": "code",
   "execution_count": 62,
   "id": "incident-craft",
   "metadata": {},
   "outputs": [],
   "source": [
    "import pickle"
   ]
  },
  {
   "cell_type": "code",
   "execution_count": 64,
   "id": "guilty-oklahoma",
   "metadata": {},
   "outputs": [],
   "source": [
    "filename = 'PCOS_model.sav'\n",
    "pickle.dump(clf1, open(filename, 'wb'))"
   ]
  },
  {
   "cell_type": "code",
   "execution_count": 65,
   "id": "celtic-heading",
   "metadata": {},
   "outputs": [
    {
     "data": {
      "text/plain": [
       "100"
      ]
     },
     "execution_count": 65,
     "metadata": {},
     "output_type": "execute_result"
    }
   ],
   "source": [
    "rf.n_estimators"
   ]
  },
  {
   "cell_type": "code",
   "execution_count": null,
   "id": "posted-livestock",
   "metadata": {},
   "outputs": [],
   "source": []
  }
 ],
 "metadata": {
  "kernelspec": {
   "display_name": "Python [conda env:tf-gpu] *",
   "language": "python",
   "name": "conda-env-tf-gpu-py"
  },
  "language_info": {
   "codemirror_mode": {
    "name": "ipython",
    "version": 3
   },
   "file_extension": ".py",
   "mimetype": "text/x-python",
   "name": "python",
   "nbconvert_exporter": "python",
   "pygments_lexer": "ipython3",
   "version": "3.8.8"
  }
 },
 "nbformat": 4,
 "nbformat_minor": 5
}
